{
 "cells": [
  {
   "cell_type": "code",
   "execution_count": 130,
   "metadata": {
    "collapsed": true,
    "deletable": true,
    "editable": true
   },
   "outputs": [],
   "source": [
    "import tensorflow as tf\n",
    "sess = tf.Session()"
   ]
  },
  {
   "cell_type": "code",
   "execution_count": 14,
   "metadata": {
    "collapsed": false,
    "deletable": true,
    "editable": true
   },
   "outputs": [],
   "source": [
    "import keisen as ks"
   ]
  },
  {
   "cell_type": "code",
   "execution_count": 15,
   "metadata": {
    "collapsed": false,
    "deletable": true,
    "editable": true
   },
   "outputs": [
    {
     "name": "stdout",
     "output_type": "stream",
     "text": [
      "[ 6 12]\n"
     ]
    }
   ],
   "source": [
    "a = tf.Variable([1, 3])\n",
    "b = tf.Variable([5, 9])\n",
    "s = tf.Session()\n",
    "s.run(tf.global_variables_initializer())\n",
    "c1 = a + b\n",
    "#c2 = tf.sub(a, b)\n",
    "print(s.run(c1))\n",
    "#print(s.run(c2))"
   ]
  },
  {
   "cell_type": "markdown",
   "metadata": {
    "deletable": true,
    "editable": true
   },
   "source": []
  },
  {
   "cell_type": "code",
   "execution_count": 16,
   "metadata": {
    "collapsed": false,
    "deletable": true,
    "editable": true
   },
   "outputs": [
    {
     "name": "stdout",
     "output_type": "stream",
     "text": [
      "[0, 1, 2]\n",
      "(0, ?)\n",
      "1\n",
      "2\n",
      "3\n",
      "100\n"
     ]
    }
   ],
   "source": [
    "a = tf.random_uniform([100, 3, 3, 4], dtype=tf.float32)\n",
    "s.run(tf.global_variables_initializer())\n",
    "print(range(len(a.get_shape()) - 1))\n",
    "m, v = tf.nn.moments(a, [0, 1, 2])\n",
    "#print(s.run(tf.nn.batch_normalization(a, m, v, None, None, 1e-7)))\n",
    "print(tf.reshape(a, [0, -1]).get_shape())\n",
    "for i in range(1, len(a.get_shape())):\n",
    "    print(i)\n",
    "print(a.get_shape()[0])"
   ]
  },
  {
   "cell_type": "code",
   "execution_count": 17,
   "metadata": {
    "collapsed": false,
    "deletable": true,
    "editable": true
   },
   "outputs": [
    {
     "name": "stdout",
     "output_type": "stream",
     "text": [
      "(100, 10)\n",
      "[[ 0.39366353  0.08048725  0.70713675  0.94599247  0.88217902  0.14550507\n",
      "   0.39991176  0.54950988  0.20531893  0.3581146 ]\n",
      " [ 0.31623769  0.64518893  0.66751778  0.27799928  0.43377519  0.56228209\n",
      "   0.67686999  0.92398953  0.89392984  0.49511302]]\n"
     ]
    }
   ],
   "source": [
    "a = tf.random_uniform([100, 2], dtype=tf.float32)\n",
    "b = tf.random_uniform([100, 5], dtype=tf.float32)\n",
    "c = tf.random_uniform([100, 3], dtype=tf.float32)\n",
    "\n",
    "d = tf.concat([a, b, c], 1)\n",
    "print(d.get_shape())\n",
    "\n",
    "print(s.run(d[0:2, :]))"
   ]
  },
  {
   "cell_type": "code",
   "execution_count": 125,
   "metadata": {
    "collapsed": false,
    "deletable": true,
    "editable": true
   },
   "outputs": [
    {
     "name": "stdout",
     "output_type": "stream",
     "text": [
      "['data/stock/6758.T.csv', 'data/index/dow30.csv', 'data/index/nasdaq.csv', 'data/index/nikkei225.csv', 'data/index/s&p500.csv']\n",
      "Dataset from 1985-01-29 00:00:00.\n",
      "Original dataset columns is ['path', 'date', 'open', 'high', 'low', 'close', 'volume', 'adj close', 'yday', 'wday', 'openGap', 'closeGap', 'higherGap', 'lowerGap', 'dayOfGap'].\n"
     ]
    },
    {
     "ename": "TypeError",
     "evalue": "__init__() takes exactly 6 arguments (4 given)",
     "output_type": "error",
     "traceback": [
      "\u001b[0;31m---------------------------------------------------------------------------\u001b[0m",
      "\u001b[0;31mTypeError\u001b[0m                                 Traceback (most recent call last)",
      "\u001b[0;32m<ipython-input-125-6a84b0e59fbf>\u001b[0m in \u001b[0;36m<module>\u001b[0;34m()\u001b[0m\n\u001b[1;32m     27\u001b[0m \u001b[0;32mprint\u001b[0m\u001b[0;34m(\u001b[0m\u001b[0;34m\"Original dataset columns is {}.\"\u001b[0m\u001b[0;34m.\u001b[0m\u001b[0mformat\u001b[0m\u001b[0;34m(\u001b[0m\u001b[0mheader\u001b[0m\u001b[0;34m)\u001b[0m\u001b[0;34m)\u001b[0m\u001b[0;34m\u001b[0m\u001b[0m\n\u001b[1;32m     28\u001b[0m \u001b[0;34m\u001b[0m\u001b[0m\n\u001b[0;32m---> 29\u001b[0;31m \u001b[0mdataset\u001b[0m \u001b[0;34m=\u001b[0m \u001b[0mds\u001b[0m\u001b[0;34m.\u001b[0m\u001b[0mDataset\u001b[0m\u001b[0;34m(\u001b[0m\u001b[0mheader\u001b[0m\u001b[0;34m,\u001b[0m \u001b[0mdataset\u001b[0m\u001b[0;34m,\u001b[0m \u001b[0mrange\u001b[0m\u001b[0;34m(\u001b[0m\u001b[0mlen\u001b[0m\u001b[0;34m(\u001b[0m\u001b[0mstocks\u001b[0m\u001b[0;34m)\u001b[0m\u001b[0;34m)\u001b[0m\u001b[0;34m)\u001b[0m\u001b[0;34m\u001b[0m\u001b[0m\n\u001b[0m",
      "\u001b[0;31mTypeError\u001b[0m: __init__() takes exactly 6 arguments (4 given)"
     ]
    }
   ],
   "source": [
    "import dataset as ds\n",
    "import imp\n",
    "imp.reload(ds)\n",
    "\n",
    "markets = ds._csv_list('data/index')\n",
    "stocks  = ds._csv_list('data/stock')\n",
    "\n",
    "print(stocks+markets)\n",
    "\n",
    "dataset = map(lambda path: ds._load(path), stocks+markets)\n",
    "dataset = map(lambda data: ds._add_xdays(data), dataset)\n",
    "dataset = map(lambda data: ds._parse_float(data), dataset)\n",
    "dataset = map(lambda data: ds._sort(data), dataset)\n",
    "\n",
    "base_date = max(map(lambda (h, d): d[0][1], dataset))\n",
    "print(\"Dataset from {}.\".format(base_date))\n",
    "\n",
    "dataset = map(lambda data: ds._reject_too_old(data, base_date), dataset)\n",
    "dataset = map(lambda data: ds._date_padding(data), dataset)\n",
    "dataset = map(lambda data: ds._add_gap(data), dataset)\n",
    "\n",
    "# file, (header or data), times, columns\n",
    "# 4,2,8375,15\n",
    "# 1,2,9116,15\n",
    "\n",
    "header, dataset = ds._reshape(dataset)\n",
    "print(\"Original dataset columns is {}.\".format(header))\n",
    "\n",
    "dataset = ds.Dataset(header, dataset, range(len(stocks)))\n"
   ]
  },
  {
   "cell_type": "code",
   "execution_count": 126,
   "metadata": {
    "collapsed": false
   },
   "outputs": [
    {
     "name": "stdout",
     "output_type": "stream",
     "text": [
      "[datetime.datetime(2013, 5, 3, 0, 0), datetime.datetime(2013, 5, 4, 0, 0), datetime.datetime(2013, 5, 5, 0, 0), datetime.datetime(2013, 5, 6, 0, 0), datetime.datetime(2013, 5, 7, 0, 0), datetime.datetime(2013, 5, 8, 0, 0), datetime.datetime(2013, 5, 9, 0, 0), datetime.datetime(2013, 5, 10, 0, 0), datetime.datetime(2013, 5, 11, 0, 0)]\n",
      "[datetime.datetime(2014, 5, 8, 0, 0), datetime.datetime(2014, 5, 7, 0, 0), datetime.datetime(2014, 5, 6, 0, 0), datetime.datetime(2014, 5, 5, 0, 0), datetime.datetime(2014, 5, 4, 0, 0), datetime.datetime(2014, 5, 3, 0, 0), datetime.datetime(2014, 5, 2, 0, 0), datetime.datetime(2014, 5, 1, 0, 0), datetime.datetime(2014, 4, 30, 0, 0)]\n"
     ]
    }
   ],
   "source": [
    "s = \"2013/5/1\"\n",
    "e = \"2014/5/10\"\n",
    "import datetime\n",
    "s = datetime.datetime.strptime(s, \"%Y/%m/%d\")\n",
    "e = datetime.datetime.strptime(e, \"%Y/%m/%d\")\n",
    "period = (e - (s + datetime.timedelta(days=1))).days\n",
    "dates = []\n",
    "for diff in xrange(1,period+1):\n",
    "    new_date = s + datetime.timedelta(days=diff)\n",
    "    dates.append(new_date)\n",
    "\n",
    "dates.sort(reverse=False)\n",
    "print(dates[1:10])\n",
    "dates.sort(reverse=True)\n",
    "print(dates[1:10])"
   ]
  },
  {
   "cell_type": "code",
   "execution_count": 131,
   "metadata": {
    "collapsed": false
   },
   "outputs": [
    {
     "name": "stdout",
     "output_type": "stream",
     "text": [
      "Tensor(\"concat_8:0\", shape=(4,), dtype=int32)\n",
      "[1 2 3 4]\n"
     ]
    }
   ],
   "source": [
    "a = [ 1, 2 ]\n",
    "b = [ 3, 4 ]\n",
    "\n",
    "c = tf.concat([ a, b ], 0)\n",
    "print(c)\n",
    "print(sess.run(c))\n"
   ]
  }
 ],
 "metadata": {
  "kernelspec": {
   "display_name": "Python 2",
   "language": "python",
   "name": "python2"
  },
  "language_info": {
   "codemirror_mode": {
    "name": "ipython",
    "version": 2
   },
   "file_extension": ".py",
   "mimetype": "text/x-python",
   "name": "python",
   "nbconvert_exporter": "python",
   "pygments_lexer": "ipython2",
   "version": "2.7.13"
  }
 },
 "nbformat": 4,
 "nbformat_minor": 2
}
